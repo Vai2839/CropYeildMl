{
 "cells": [
  {
   "cell_type": "code",
   "execution_count": 2,
   "metadata": {
    "execution": {
     "iopub.execute_input": "2024-12-24T15:37:33.347436Z",
     "iopub.status.busy": "2024-12-24T15:37:33.347221Z",
     "iopub.status.idle": "2024-12-24T15:37:33.357331Z",
     "shell.execute_reply": "2024-12-24T15:37:33.356706Z",
     "shell.execute_reply.started": "2024-12-24T15:37:33.347418Z"
    },
    "trusted": true
   },
   "outputs": [],
   "source": [
    "import numpy as np \n",
    "import pandas as pd"
   ]
  },
  {
   "cell_type": "code",
   "execution_count": null,
   "metadata": {
    "execution": {
     "iopub.execute_input": "2024-12-24T15:37:33.358670Z",
     "iopub.status.busy": "2024-12-24T15:37:33.358238Z",
     "iopub.status.idle": "2024-12-24T15:37:33.398211Z",
     "shell.execute_reply": "2024-12-24T15:37:33.397615Z",
     "shell.execute_reply.started": "2024-12-24T15:37:33.358638Z"
    },
    "trusted": true
   },
   "outputs": [],
   "source": [
    "df=pd.read_csv(\"/kaggle/input/crop-yield-prediction-dataset/yield_df.csv\")"
   ]
  },
  {
   "cell_type": "code",
   "execution_count": null,
   "metadata": {
    "execution": {
     "iopub.execute_input": "2024-12-24T15:37:33.399275Z",
     "iopub.status.busy": "2024-12-24T15:37:33.398996Z",
     "iopub.status.idle": "2024-12-24T15:37:33.412387Z",
     "shell.execute_reply": "2024-12-24T15:37:33.411729Z",
     "shell.execute_reply.started": "2024-12-24T15:37:33.399248Z"
    },
    "trusted": true
   },
   "outputs": [],
   "source": [
    "df"
   ]
  },
  {
   "cell_type": "code",
   "execution_count": null,
   "metadata": {
    "execution": {
     "iopub.execute_input": "2024-12-24T15:37:33.413583Z",
     "iopub.status.busy": "2024-12-24T15:37:33.413263Z",
     "iopub.status.idle": "2024-12-24T15:37:33.430616Z",
     "shell.execute_reply": "2024-12-24T15:37:33.429726Z",
     "shell.execute_reply.started": "2024-12-24T15:37:33.413534Z"
    },
    "trusted": true
   },
   "outputs": [],
   "source": [
    "df.head()"
   ]
  },
  {
   "cell_type": "code",
   "execution_count": null,
   "metadata": {
    "execution": {
     "iopub.execute_input": "2024-12-24T15:37:33.431825Z",
     "iopub.status.busy": "2024-12-24T15:37:33.431558Z",
     "iopub.status.idle": "2024-12-24T15:37:33.453634Z",
     "shell.execute_reply": "2024-12-24T15:37:33.452934Z",
     "shell.execute_reply.started": "2024-12-24T15:37:33.431805Z"
    },
    "trusted": true
   },
   "outputs": [],
   "source": [
    "df[df.columns[3:]].corr()"
   ]
  },
  {
   "cell_type": "code",
   "execution_count": null,
   "metadata": {
    "execution": {
     "iopub.execute_input": "2024-12-24T15:37:33.454555Z",
     "iopub.status.busy": "2024-12-24T15:37:33.454346Z",
     "iopub.status.idle": "2024-12-24T15:37:33.465954Z",
     "shell.execute_reply": "2024-12-24T15:37:33.465342Z",
     "shell.execute_reply.started": "2024-12-24T15:37:33.454534Z"
    },
    "trusted": true
   },
   "outputs": [],
   "source": [
    "df.drop_duplicates(inplace=True)"
   ]
  },
  {
   "cell_type": "code",
   "execution_count": null,
   "metadata": {
    "execution": {
     "iopub.execute_input": "2024-12-24T15:37:33.467009Z",
     "iopub.status.busy": "2024-12-24T15:37:33.466694Z",
     "iopub.status.idle": "2024-12-24T15:37:33.480750Z",
     "shell.execute_reply": "2024-12-24T15:37:33.480003Z",
     "shell.execute_reply.started": "2024-12-24T15:37:33.466986Z"
    },
    "trusted": true
   },
   "outputs": [],
   "source": [
    "df.info()"
   ]
  },
  {
   "cell_type": "code",
   "execution_count": null,
   "metadata": {
    "execution": {
     "iopub.execute_input": "2024-12-24T15:37:33.481894Z",
     "iopub.status.busy": "2024-12-24T15:37:33.481599Z",
     "iopub.status.idle": "2024-12-24T15:37:33.494520Z",
     "shell.execute_reply": "2024-12-24T15:37:33.493743Z",
     "shell.execute_reply.started": "2024-12-24T15:37:33.481865Z"
    },
    "trusted": true
   },
   "outputs": [],
   "source": [
    "df.isnull().sum()"
   ]
  },
  {
   "cell_type": "code",
   "execution_count": null,
   "metadata": {
    "execution": {
     "iopub.execute_input": "2024-12-24T15:37:33.495602Z",
     "iopub.status.busy": "2024-12-24T15:37:33.495369Z",
     "iopub.status.idle": "2024-12-24T15:37:33.506749Z",
     "shell.execute_reply": "2024-12-24T15:37:33.505871Z",
     "shell.execute_reply.started": "2024-12-24T15:37:33.495573Z"
    },
    "trusted": true
   },
   "outputs": [],
   "source": [
    "df.drop('Unnamed: 0',axis=1,inplace=True)"
   ]
  },
  {
   "cell_type": "code",
   "execution_count": null,
   "metadata": {
    "execution": {
     "iopub.execute_input": "2024-12-24T15:37:33.508047Z",
     "iopub.status.busy": "2024-12-24T15:37:33.507751Z",
     "iopub.status.idle": "2024-12-24T15:37:33.526550Z",
     "shell.execute_reply": "2024-12-24T15:37:33.525824Z",
     "shell.execute_reply.started": "2024-12-24T15:37:33.508019Z"
    },
    "trusted": true
   },
   "outputs": [],
   "source": [
    "df.head()"
   ]
  },
  {
   "cell_type": "code",
   "execution_count": 12,
   "metadata": {
    "execution": {
     "iopub.execute_input": "2024-12-24T15:37:33.527461Z",
     "iopub.status.busy": "2024-12-24T15:37:33.527251Z",
     "iopub.status.idle": "2024-12-24T15:37:33.542356Z",
     "shell.execute_reply": "2024-12-24T15:37:33.541471Z",
     "shell.execute_reply.started": "2024-12-24T15:37:33.527442Z"
    },
    "trusted": true
   },
   "outputs": [],
   "source": [
    "import seaborn as sns\n",
    "import matplotlib.pyplot as plt"
   ]
  },
  {
   "cell_type": "code",
   "execution_count": null,
   "metadata": {
    "execution": {
     "iopub.execute_input": "2024-12-24T15:37:33.545122Z",
     "iopub.status.busy": "2024-12-24T15:37:33.544878Z",
     "iopub.status.idle": "2024-12-24T15:37:34.488852Z",
     "shell.execute_reply": "2024-12-24T15:37:34.487917Z",
     "shell.execute_reply.started": "2024-12-24T15:37:33.545102Z"
    },
    "trusted": true
   },
   "outputs": [],
   "source": [
    "plt.figure(figsize=(10,20))\n",
    "sns.countplot(y=df['Area'])\n",
    "plt.title(\"Frequency\")\n",
    "plt.show()"
   ]
  },
  {
   "cell_type": "code",
   "execution_count": 46,
   "metadata": {
    "execution": {
     "iopub.execute_input": "2024-12-24T15:37:34.490098Z",
     "iopub.status.busy": "2024-12-24T15:37:34.489838Z",
     "iopub.status.idle": "2024-12-24T15:37:34.494666Z",
     "shell.execute_reply": "2024-12-24T15:37:34.493755Z",
     "shell.execute_reply.started": "2024-12-24T15:37:34.490076Z"
    },
    "trusted": true
   },
   "outputs": [],
   "source": [
    "country=df['Area'].unique()"
   ]
  },
  {
   "cell_type": "code",
   "execution_count": 47,
   "metadata": {
    "execution": {
     "iopub.execute_input": "2024-12-24T15:37:34.495755Z",
     "iopub.status.busy": "2024-12-24T15:37:34.495508Z",
     "iopub.status.idle": "2024-12-24T15:37:34.722144Z",
     "shell.execute_reply": "2024-12-24T15:37:34.721335Z",
     "shell.execute_reply.started": "2024-12-24T15:37:34.495725Z"
    },
    "trusted": true
   },
   "outputs": [],
   "source": [
    "yeild_per_country=[]\n",
    "for state in country:\n",
    "    yeild_per_country.append(df[df['Area']==state]['hg/ha_yield'].sum())"
   ]
  },
  {
   "cell_type": "code",
   "execution_count": null,
   "metadata": {
    "execution": {
     "iopub.execute_input": "2024-12-24T15:38:49.775578Z",
     "iopub.status.busy": "2024-12-24T15:38:49.775242Z",
     "iopub.status.idle": "2024-12-24T15:38:50.558259Z",
     "shell.execute_reply": "2024-12-24T15:38:50.557436Z",
     "shell.execute_reply.started": "2024-12-24T15:38:49.775550Z"
    },
    "trusted": true
   },
   "outputs": [],
   "source": [
    "plt.figure(figsize=(10,20))\n",
    "sns.barplot(y=country,x=yeild_per_country)\n",
    "plt.show()"
   ]
  },
  {
   "cell_type": "code",
   "execution_count": null,
   "metadata": {
    "execution": {
     "iopub.execute_input": "2024-12-24T15:40:03.001035Z",
     "iopub.status.busy": "2024-12-24T15:40:03.000705Z",
     "iopub.status.idle": "2024-12-24T15:40:03.009423Z",
     "shell.execute_reply": "2024-12-24T15:40:03.008383Z",
     "shell.execute_reply.started": "2024-12-24T15:40:03.001009Z"
    },
    "trusted": true
   },
   "outputs": [],
   "source": [
    "df['Area'].value_counts()"
   ]
  },
  {
   "cell_type": "code",
   "execution_count": null,
   "metadata": {
    "execution": {
     "iopub.execute_input": "2024-12-24T15:40:14.630048Z",
     "iopub.status.busy": "2024-12-24T15:40:14.629738Z",
     "iopub.status.idle": "2024-12-24T15:40:14.637897Z",
     "shell.execute_reply": "2024-12-24T15:40:14.636920Z",
     "shell.execute_reply.started": "2024-12-24T15:40:14.630024Z"
    },
    "trusted": true
   },
   "outputs": [],
   "source": [
    "df['Item'].value_counts()"
   ]
  },
  {
   "cell_type": "code",
   "execution_count": 54,
   "metadata": {
    "execution": {
     "iopub.execute_input": "2024-12-24T15:45:25.584618Z",
     "iopub.status.busy": "2024-12-24T15:45:25.584322Z",
     "iopub.status.idle": "2024-12-24T15:45:25.589265Z",
     "shell.execute_reply": "2024-12-24T15:45:25.588364Z",
     "shell.execute_reply.started": "2024-12-24T15:45:25.584595Z"
    },
    "trusted": true
   },
   "outputs": [],
   "source": [
    "crops=df['Item'].unique()"
   ]
  },
  {
   "cell_type": "code",
   "execution_count": 55,
   "metadata": {
    "execution": {
     "iopub.execute_input": "2024-12-24T15:46:47.651621Z",
     "iopub.status.busy": "2024-12-24T15:46:47.651326Z",
     "iopub.status.idle": "2024-12-24T15:46:47.679579Z",
     "shell.execute_reply": "2024-12-24T15:46:47.678911Z",
     "shell.execute_reply.started": "2024-12-24T15:46:47.651599Z"
    },
    "trusted": true
   },
   "outputs": [],
   "source": [
    "yeild_per_item=[]\n",
    "for crop in crops:\n",
    "    yeild_per_item.append(df[df['Item']==crop]['hg/ha_yield'].sum())"
   ]
  },
  {
   "cell_type": "code",
   "execution_count": null,
   "metadata": {
    "execution": {
     "iopub.execute_input": "2024-12-24T15:48:19.140395Z",
     "iopub.status.busy": "2024-12-24T15:48:19.140098Z",
     "iopub.status.idle": "2024-12-24T15:48:19.351214Z",
     "shell.execute_reply": "2024-12-24T15:48:19.350363Z",
     "shell.execute_reply.started": "2024-12-24T15:48:19.140363Z"
    },
    "trusted": true
   },
   "outputs": [],
   "source": [
    "plt.figure(figsize=(10,20))\n",
    "sns.barplot(x=yeild_per_item,y=crops)\n",
    "plt.show()"
   ]
  },
  {
   "cell_type": "code",
   "execution_count": 59,
   "metadata": {
    "execution": {
     "iopub.execute_input": "2024-12-24T15:50:09.605985Z",
     "iopub.status.busy": "2024-12-24T15:50:09.605657Z",
     "iopub.status.idle": "2024-12-24T15:50:09.611726Z",
     "shell.execute_reply": "2024-12-24T15:50:09.610794Z",
     "shell.execute_reply.started": "2024-12-24T15:50:09.605958Z"
    },
    "trusted": true
   },
   "outputs": [],
   "source": [
    "y=df['hg/ha_yield']\n",
    "x=df.drop(['hg/ha_yield'],axis=1)"
   ]
  },
  {
   "cell_type": "code",
   "execution_count": 61,
   "metadata": {
    "execution": {
     "iopub.execute_input": "2024-12-24T15:51:10.030176Z",
     "iopub.status.busy": "2024-12-24T15:51:10.029810Z",
     "iopub.status.idle": "2024-12-24T15:51:10.325446Z",
     "shell.execute_reply": "2024-12-24T15:51:10.324533Z",
     "shell.execute_reply.started": "2024-12-24T15:51:10.030147Z"
    },
    "trusted": true
   },
   "outputs": [],
   "source": [
    "from sklearn.model_selection import train_test_split"
   ]
  },
  {
   "cell_type": "code",
   "execution_count": 64,
   "metadata": {
    "execution": {
     "iopub.execute_input": "2024-12-24T15:52:31.586612Z",
     "iopub.status.busy": "2024-12-24T15:52:31.586299Z",
     "iopub.status.idle": "2024-12-24T15:52:31.600083Z",
     "shell.execute_reply": "2024-12-24T15:52:31.599144Z",
     "shell.execute_reply.started": "2024-12-24T15:52:31.586584Z"
    },
    "trusted": true
   },
   "outputs": [],
   "source": [
    "xtrian,xtest,ytrain,ytest=train_test_split(x,y,test_size=0.3,random_state=42)"
   ]
  },
  {
   "cell_type": "code",
   "execution_count": 66,
   "metadata": {
    "execution": {
     "iopub.execute_input": "2024-12-24T15:55:23.224847Z",
     "iopub.status.busy": "2024-12-24T15:55:23.224534Z",
     "iopub.status.idle": "2024-12-24T15:55:23.352735Z",
     "shell.execute_reply": "2024-12-24T15:55:23.351892Z",
     "shell.execute_reply.started": "2024-12-24T15:55:23.224819Z"
    },
    "trusted": true
   },
   "outputs": [],
   "source": [
    "from sklearn.preprocessing import OneHotEncoder,StandardScaler\n",
    "from sklearn.compose import ColumnTransformer"
   ]
  },
  {
   "cell_type": "code",
   "execution_count": 68,
   "metadata": {
    "execution": {
     "iopub.execute_input": "2024-12-24T16:07:22.003427Z",
     "iopub.status.busy": "2024-12-24T16:07:22.003055Z",
     "iopub.status.idle": "2024-12-24T16:07:22.007131Z",
     "shell.execute_reply": "2024-12-24T16:07:22.006282Z",
     "shell.execute_reply.started": "2024-12-24T16:07:22.003398Z"
    },
    "trusted": true
   },
   "outputs": [],
   "source": [
    "ohe=OneHotEncoder(drop='first')\n",
    "sc=StandardScaler()\n"
   ]
  },
  {
   "cell_type": "code",
   "execution_count": 71,
   "metadata": {
    "execution": {
     "iopub.execute_input": "2024-12-24T16:10:21.027737Z",
     "iopub.status.busy": "2024-12-24T16:10:21.027416Z",
     "iopub.status.idle": "2024-12-24T16:10:21.031867Z",
     "shell.execute_reply": "2024-12-24T16:10:21.031014Z",
     "shell.execute_reply.started": "2024-12-24T16:10:21.027709Z"
    },
    "trusted": true
   },
   "outputs": [],
   "source": [
    "preprocessor=ColumnTransformer(\n",
    "transformers=[\n",
    "        ('onehotencoder',ohe,[0,1]),\n",
    "        ('standardscaler',sc,[2,3,4,5])\n",
    "    ],\n",
    "remainder='passthrough'\n",
    ")"
   ]
  },
  {
   "cell_type": "code",
   "execution_count": 75,
   "metadata": {
    "execution": {
     "iopub.execute_input": "2024-12-24T16:11:55.730062Z",
     "iopub.status.busy": "2024-12-24T16:11:55.729723Z",
     "iopub.status.idle": "2024-12-24T16:11:55.767230Z",
     "shell.execute_reply": "2024-12-24T16:11:55.766618Z",
     "shell.execute_reply.started": "2024-12-24T16:11:55.730034Z"
    },
    "trusted": true
   },
   "outputs": [],
   "source": [
    "xtrain_dum=preprocessor.fit_transform(xtrian)\n",
    "xtest_dum=preprocessor.fit_transform(xtest)"
   ]
  },
  {
   "cell_type": "code",
   "execution_count": 80,
   "metadata": {
    "execution": {
     "iopub.execute_input": "2024-12-24T16:15:00.149234Z",
     "iopub.status.busy": "2024-12-24T16:15:00.148878Z",
     "iopub.status.idle": "2024-12-24T16:15:00.196147Z",
     "shell.execute_reply": "2024-12-24T16:15:00.195307Z",
     "shell.execute_reply.started": "2024-12-24T16:15:00.149209Z"
    },
    "trusted": true
   },
   "outputs": [],
   "source": [
    "from sklearn.linear_model import LinearRegression, Lasso, Ridge\n",
    "from sklearn.neighbors import KNeighborsRegressor\n",
    "from sklearn.tree import DecisionTreeRegressor\n"
   ]
  },
  {
   "cell_type": "code",
   "execution_count": 82,
   "metadata": {
    "execution": {
     "iopub.execute_input": "2024-12-24T16:15:57.757159Z",
     "iopub.status.busy": "2024-12-24T16:15:57.756815Z",
     "iopub.status.idle": "2024-12-24T16:15:57.760894Z",
     "shell.execute_reply": "2024-12-24T16:15:57.759863Z",
     "shell.execute_reply.started": "2024-12-24T16:15:57.757133Z"
    },
    "trusted": true
   },
   "outputs": [],
   "source": [
    "from sklearn.metrics import mean_squared_error,r2_score"
   ]
  },
  {
   "cell_type": "code",
   "execution_count": null,
   "metadata": {
    "execution": {
     "iopub.execute_input": "2024-12-24T16:21:57.380180Z",
     "iopub.status.busy": "2024-12-24T16:21:57.379849Z",
     "iopub.status.idle": "2024-12-24T16:22:08.122929Z",
     "shell.execute_reply": "2024-12-24T16:22:08.121976Z",
     "shell.execute_reply.started": "2024-12-24T16:21:57.380157Z"
    },
    "trusted": true
   },
   "outputs": [],
   "source": [
    "model={\n",
    "    'lr':LinearRegression(),\n",
    "    'lss':Lasso(),\n",
    "    'rg':Ridge(),\n",
    "    'knr':KNeighborsRegressor(),\n",
    "    'dtr':DecisionTreeRegressor()\n",
    "\n",
    "}\n",
    "for name,mod in model.items():\n",
    "    mod.fit(xtrain_dum,ytrain)\n",
    "    ypred=mod.predict(xtest_dum)\n",
    "\n",
    "    print(f\"{name} MSE : {mean_squared_error(ytest,ypred)} Score : {r2_score(ytest,ypred)}\")"
   ]
  },
  {
   "cell_type": "code",
   "execution_count": null,
   "metadata": {
    "execution": {
     "iopub.execute_input": "2024-12-24T16:24:32.616863Z",
     "iopub.status.busy": "2024-12-24T16:24:32.616535Z",
     "iopub.status.idle": "2024-12-24T16:24:35.514563Z",
     "shell.execute_reply": "2024-12-24T16:24:35.513939Z",
     "shell.execute_reply.started": "2024-12-24T16:24:32.616835Z"
    },
    "trusted": true
   },
   "outputs": [],
   "source": [
    "mod=KNeighborsRegressor()\n",
    "\n",
    "mod.fit(xtrain_dum,ytrain)\n",
    "mod.predict(xtest_dum)"
   ]
  },
  {
   "cell_type": "code",
   "execution_count": null,
   "metadata": {
    "trusted": true
   },
   "outputs": [],
   "source": []
  }
 ],
 "metadata": {
  "kaggle": {
   "accelerator": "nvidiaTeslaT4",
   "dataSources": [
    {
     "datasetId": 1760177,
     "sourceId": 2874008,
     "sourceType": "datasetVersion"
    }
   ],
   "dockerImageVersionId": 30823,
   "isGpuEnabled": true,
   "isInternetEnabled": true,
   "language": "python",
   "sourceType": "notebook"
  },
  "kernelspec": {
   "display_name": "Python 3",
   "language": "python",
   "name": "python3"
  },
  "language_info": {
   "codemirror_mode": {
    "name": "ipython",
    "version": 3
   },
   "file_extension": ".py",
   "mimetype": "text/x-python",
   "name": "python",
   "nbconvert_exporter": "python",
   "pygments_lexer": "ipython3",
   "version": "3.12.2"
  }
 },
 "nbformat": 4,
 "nbformat_minor": 4
}
